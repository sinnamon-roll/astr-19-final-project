{
 "cells": [
  {
   "cell_type": "markdown",
   "id": "7fbd49df",
   "metadata": {},
   "source": [
    "Import all necessary libraries\n",
    "images taken from: https://archive.stsci.edu/pub/hlsp/hudf12/"
   ]
  },
  {
   "cell_type": "code",
   "execution_count": null,
   "id": "8274c236",
   "metadata": {},
   "outputs": [],
   "source": [
    "import numpy as np\n",
    "import sep\n",
    "from astropy.utils.data import get_pkg_data_filename\n",
    "from astropy.io import fits\n",
    "import matplotlib.pyplot as plt\n",
    "from matplotlib import rcParams"
   ]
  },
  {
   "cell_type": "markdown",
   "id": "465f7baf",
   "metadata": {},
   "source": [
    "additional setup for the plot"
   ]
  },
  {
   "cell_type": "code",
   "execution_count": null,
   "id": "8f36c4d5",
   "metadata": {},
   "outputs": [],
   "source": [
    "%matplotlib inline\n",
    "\n",
    "rcParams['figure.figsize'] = [10., 8.]"
   ]
  },
  {
   "cell_type": "markdown",
   "id": "73306f30",
   "metadata": {},
   "source": [
    "reading in the input file and making the data usable for the next steps"
   ]
  },
  {
   "cell_type": "code",
   "execution_count": null,
   "id": "5181111f",
   "metadata": {},
   "outputs": [],
   "source": [
    "image = get_pkg_data_filename('hlsp_hudf12_hst_wfc3ir_udfmain_f105w_v1.0_drz.fits')\n",
    "data = fits.getdata(image, ext=0)\n",
    "data = data.byteswap(inplace=True).newbyteorder()"
   ]
  },
  {
   "cell_type": "markdown",
   "id": "da71a049",
   "metadata": {},
   "source": [
    "plotting the data"
   ]
  },
  {
   "cell_type": "code",
   "execution_count": null,
   "id": "e60345a9",
   "metadata": {},
   "outputs": [],
   "source": [
    "m, s = np.mean(data), np.std(data)\n",
    "plt.imshow(data, interpolation='nearest', cmap='gray', vmin=m-s, vmax=m+s, origin='lower')\n",
    "plt.colorbar();\n",
    "plt.savefig('fig1.png')"
   ]
  },
  {
   "cell_type": "markdown",
   "id": "a94141d6",
   "metadata": {},
   "source": [
    "Background subtraction step"
   ]
  },
  {
   "cell_type": "code",
   "execution_count": null,
   "id": "89a522bb",
   "metadata": {},
   "outputs": [],
   "source": [
    "bkg = sep.Background(data)"
   ]
  },
  {
   "cell_type": "markdown",
   "id": "70c42d5c",
   "metadata": {},
   "source": [
    "Global mean and noise of data set"
   ]
  },
  {
   "cell_type": "code",
   "execution_count": null,
   "id": "56ce70ff",
   "metadata": {},
   "outputs": [],
   "source": [
    "print(bkg.globalback)\n",
    "print(bkg.globalrms)"
   ]
  },
  {
   "cell_type": "markdown",
   "id": "d1d8db17",
   "metadata": {},
   "source": [
    "Making the background a 2d array"
   ]
  },
  {
   "cell_type": "code",
   "execution_count": null,
   "id": "e0bb7867",
   "metadata": {},
   "outputs": [],
   "source": [
    "bkg_image = bkg.back()"
   ]
  },
  {
   "cell_type": "markdown",
   "id": "878f7692",
   "metadata": {},
   "source": [
    "plotting the background"
   ]
  },
  {
   "cell_type": "code",
   "execution_count": null,
   "id": "63f427a3",
   "metadata": {},
   "outputs": [],
   "source": [
    "plt.imshow(bkg_image, interpolation='nearest', cmap='gray', origin='lower')\n",
    "plt.colorbar();\n",
    "plt.savefig('fig2.png')"
   ]
  },
  {
   "cell_type": "markdown",
   "id": "1e7d6cf4",
   "metadata": {},
   "source": [
    "plotting background noise"
   ]
  },
  {
   "cell_type": "code",
   "execution_count": null,
   "id": "7b863382",
   "metadata": {},
   "outputs": [],
   "source": [
    "bkg_rms = bkg.rms()\n",
    "plt.imshow(bkg_rms, interpolation='nearest', cmap='gray', origin='lower')\n",
    "plt.colorbar();\n",
    "plt.savefig('fig3.png')"
   ]
  },
  {
   "cell_type": "markdown",
   "id": "2375e634",
   "metadata": {},
   "source": [
    "Subtracting the background"
   ]
  },
  {
   "cell_type": "code",
   "execution_count": null,
   "id": "067061c3",
   "metadata": {},
   "outputs": [],
   "source": [
    "data_sub = data - bkg"
   ]
  },
  {
   "cell_type": "markdown",
   "id": "df1fd373",
   "metadata": {},
   "source": [
    "Object detection"
   ]
  },
  {
   "cell_type": "code",
   "execution_count": null,
   "id": "1f23ce40",
   "metadata": {},
   "outputs": [],
   "source": [
    "objects = sep.extract(data_sub, 1.5, err=bkg.globalrms)"
   ]
  },
  {
   "cell_type": "markdown",
   "id": "fbc36d07",
   "metadata": {},
   "source": [
    "how many objects were detected"
   ]
  },
  {
   "cell_type": "code",
   "execution_count": null,
   "id": "c89eb654",
   "metadata": {},
   "outputs": [],
   "source": [
    "len(objects)"
   ]
  },
  {
   "cell_type": "markdown",
   "id": "facecdcd",
   "metadata": {},
   "source": [
    "Drawing ellipses around each object on the image"
   ]
  },
  {
   "cell_type": "code",
   "execution_count": null,
   "id": "28ae47cf",
   "metadata": {},
   "outputs": [],
   "source": [
    "from matplotlib.patches import Ellipse\n",
    "\n",
    "# plot background-subtracted image\n",
    "fig, ax = plt.subplots()\n",
    "m, s = np.mean(data_sub), np.std(data_sub)\n",
    "im = ax.imshow(data_sub, interpolation='nearest', cmap='gray',\n",
    "               vmin=m-s, vmax=m+s, origin='lower')\n",
    "\n",
    "# plot an ellipse for each object\n",
    "for i in range(len(objects)):\n",
    "    e = Ellipse(xy=(objects['x'][i], objects['y'][i]),\n",
    "                width=6*objects['a'][i],\n",
    "                height=6*objects['b'][i],\n",
    "                angle=objects['theta'][i] * 180. / np.pi)\n",
    "    e.set_facecolor('none')\n",
    "    e.set_edgecolor('red')\n",
    "    ax.add_artist(e)\n",
    "plt.savefig('fig4.png')"
   ]
  },
  {
   "cell_type": "markdown",
   "id": "6785eadc",
   "metadata": {},
   "source": [
    "listing available fields"
   ]
  },
  {
   "cell_type": "code",
   "execution_count": null,
   "id": "02060e8d",
   "metadata": {},
   "outputs": [],
   "source": [
    "objects.dtype.names"
   ]
  },
  {
   "cell_type": "markdown",
   "id": "4366937e",
   "metadata": {},
   "source": [
    "Aperture photometry step"
   ]
  },
  {
   "cell_type": "code",
   "execution_count": null,
   "id": "76e54650",
   "metadata": {},
   "outputs": [],
   "source": [
    "flux, fluxerr, flag = sep.sum_circle(data_sub, objects['x'], objects['y'],\n",
    "                                     3.0, err=bkg.globalrms, gain=1.0)"
   ]
  },
  {
   "cell_type": "markdown",
   "id": "6588249a",
   "metadata": {},
   "source": [
    "showing results of first ten objects"
   ]
  },
  {
   "cell_type": "code",
   "execution_count": null,
   "id": "a6b4c351",
   "metadata": {},
   "outputs": [],
   "source": [
    "for i in range(10):\n",
    "    print(\"object {:d}: flux = {:f} +/- {:f}\".format(i, flux[i], fluxerr[i]))"
   ]
  },
  {
   "cell_type": "markdown",
   "id": "8d53010a",
   "metadata": {},
   "source": [
    "Plotting hist of the fluxes"
   ]
  },
  {
   "cell_type": "code",
   "execution_count": null,
   "id": "fa4412a6",
   "metadata": {},
   "outputs": [],
   "source": [
    "plt.hist(flux, 100)"
   ]
  },
  {
   "cell_type": "markdown",
   "id": "9eb44aac",
   "metadata": {},
   "source": [
    "Here are the mean, median, and standard deviation of the fluxes. Also a list of the outliers in the data set greater than 30 standard deviations away from the mean, with the only listed outlier being 807.29728357. An outlier greatly messing with the histogram."
   ]
  },
  {
   "cell_type": "code",
   "execution_count": null,
   "id": "ae7b1c82",
   "metadata": {},
   "outputs": [],
   "source": [
    "me, medi, standev = np.mean(flux), np.median(flux), np.std(flux)\n",
    "outliers = (np.abs(flux - me) > 30*standev)\n",
    "print(me, medi, standev, flux[outliers])"
   ]
  },
  {
   "cell_type": "markdown",
   "id": "aff41109",
   "metadata": {},
   "source": [
    "Replotting hist marking the normal standard of deviation in red and the outlier in green. Finding out how many standard deviations away it is."
   ]
  },
  {
   "cell_type": "code",
   "execution_count": null,
   "id": "71f75961",
   "metadata": {},
   "outputs": [],
   "source": [
    "plt.hist(flux, 100)\n",
    "plt.axvline(x=me+standev, ls = \"--\", color='xkcd:scarlet', alpha=0.7)\n",
    "plt.axvline(x=807.29728357, ls = \"--\", color='xkcd:dark green', alpha=0.7)\n",
    "bah = (807.29728357 - me)/standev\n",
    "print(bah, \"Standard deviations away from the mean\")"
   ]
  },
  {
   "cell_type": "markdown",
   "id": "6f3362b8",
   "metadata": {},
   "source": [
    "Now I will attempt to print 3 image on top of each other to create a false color image. Going to import the astropy visualization bits to do it."
   ]
  },
  {
   "cell_type": "code",
   "execution_count": null,
   "id": "5bcd9576",
   "metadata": {},
   "outputs": [],
   "source": [
    "from astropy.visualization import make_lupton_rgb\n",
    "\n",
    "image1 = get_pkg_data_filename('hlsp_hudf12_hst_wfc3ir_udfmain_f105w_v1.0_drz.fits')\n",
    "\n",
    "image2 = get_pkg_data_filename('hlsp_hudf12_hst_wfc3ir_udfmain_f125w_v1.0_drz.fits')\n",
    "\n",
    "image3 = get_pkg_data_filename('hlsp_hudf12_hst_wfc3ir_udfmain_f160w_v1.0_drz.fits')\n",
    "\n",
    "bl = fits.open(image1)[0].data\n",
    "gr = fits.open(image2)[0].data\n",
    "re = fits.open(image3)[0].data\n",
    "\n",
    "rgb_default = make_lupton_rgb(re, gr, bl)\n",
    "plt.imshow(rgb_default, origin='lower')\n",
    "plt.savefig('fig5.png')"
   ]
  },
  {
   "cell_type": "code",
   "execution_count": null,
   "id": "7c2d501c",
   "metadata": {},
   "outputs": [],
   "source": []
  }
 ],
 "metadata": {
  "kernelspec": {
   "display_name": "Python 3 (ipykernel)",
   "language": "python",
   "name": "python3"
  },
  "language_info": {
   "codemirror_mode": {
    "name": "ipython",
    "version": 3
   },
   "file_extension": ".py",
   "mimetype": "text/x-python",
   "name": "python",
   "nbconvert_exporter": "python",
   "pygments_lexer": "ipython3",
   "version": "3.10.4"
  }
 },
 "nbformat": 4,
 "nbformat_minor": 5
}
