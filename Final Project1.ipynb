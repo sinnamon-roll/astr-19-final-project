{
 "cells": [
  {
   "cell_type": "markdown",
   "id": "34ba7fcd",
   "metadata": {},
   "source": [
    "Import all necessary libraries\n",
    "\n",
    "image taken from: https://github.com/kbarbary/sep/blob/v1.0.x/data/image.fits"
   ]
  },
  {
   "cell_type": "code",
   "execution_count": null,
   "id": "dda86f00",
   "metadata": {},
   "outputs": [],
   "source": [
    "import numpy as np\n",
    "import sep\n",
    "from astropy.utils.data import get_pkg_data_filename\n",
    "from astropy.io import fits\n",
    "import matplotlib.pyplot as plt\n",
    "from matplotlib import rcParams"
   ]
  },
  {
   "cell_type": "markdown",
   "id": "61721a50",
   "metadata": {},
   "source": [
    "additional setup for the plot"
   ]
  },
  {
   "cell_type": "code",
   "execution_count": null,
   "id": "9bc510b6",
   "metadata": {},
   "outputs": [],
   "source": [
    "%matplotlib inline\n",
    "\n",
    "rcParams['figure.figsize'] = [10., 8.]"
   ]
  },
  {
   "cell_type": "markdown",
   "id": "7a3d5079",
   "metadata": {},
   "source": [
    "reading in the input file and making the data usable for the next steps"
   ]
  },
  {
   "cell_type": "code",
   "execution_count": null,
   "id": "b73f026b",
   "metadata": {},
   "outputs": [],
   "source": [
    "image = get_pkg_data_filename('image.fits')\n",
    "data = fits.getdata(image, ext=0)"
   ]
  },
  {
   "cell_type": "markdown",
   "id": "08ae2704",
   "metadata": {},
   "source": [
    "plotting the data"
   ]
  },
  {
   "cell_type": "code",
   "execution_count": null,
   "id": "904dce36",
   "metadata": {},
   "outputs": [],
   "source": [
    "m, s = np.mean(data), np.std(data)\n",
    "plt.imshow(data, interpolation='nearest', cmap='gray', vmin=m-s, vmax=m+s, origin='lower')\n",
    "plt.colorbar();\n",
    "plt.savefig('fig1.png')"
   ]
  },
  {
   "cell_type": "markdown",
   "id": "eda499e2",
   "metadata": {},
   "source": [
    "Background subtraction step"
   ]
  },
  {
   "cell_type": "code",
   "execution_count": null,
   "id": "fa183c7a",
   "metadata": {},
   "outputs": [],
   "source": [
    "bkg = sep.Background(data)"
   ]
  },
  {
   "cell_type": "markdown",
   "id": "3b8dbe89",
   "metadata": {},
   "source": [
    "Global mean and noise of data set"
   ]
  },
  {
   "cell_type": "code",
   "execution_count": null,
   "id": "386f7d34",
   "metadata": {},
   "outputs": [],
   "source": [
    "print(bkg.globalback)\n",
    "print(bkg.globalrms)"
   ]
  },
  {
   "cell_type": "markdown",
   "id": "0b97661a",
   "metadata": {},
   "source": [
    "Making the background a 2d array"
   ]
  },
  {
   "cell_type": "code",
   "execution_count": null,
   "id": "4f449901",
   "metadata": {},
   "outputs": [],
   "source": [
    "bkg_image = bkg.back()"
   ]
  },
  {
   "cell_type": "markdown",
   "id": "39da2ebd",
   "metadata": {},
   "source": [
    "plotting the background"
   ]
  },
  {
   "cell_type": "code",
   "execution_count": null,
   "id": "4a4d5ee5",
   "metadata": {},
   "outputs": [],
   "source": [
    "plt.imshow(bkg_image, interpolation='nearest', cmap='gray', origin='lower')\n",
    "plt.colorbar();\n",
    "plt.savefig('fig2.png')"
   ]
  },
  {
   "cell_type": "markdown",
   "id": "db247920",
   "metadata": {},
   "source": [
    "plotting background noise"
   ]
  },
  {
   "cell_type": "code",
   "execution_count": null,
   "id": "22820500",
   "metadata": {},
   "outputs": [],
   "source": [
    "bkg_rms = bkg.rms()\n",
    "plt.imshow(bkg_rms, interpolation='nearest', cmap='gray', origin='lower')\n",
    "plt.colorbar();\n",
    "plt.savefig('fig3.png')"
   ]
  },
  {
   "cell_type": "markdown",
   "id": "4cb0b054",
   "metadata": {},
   "source": [
    "Subtracting the background"
   ]
  },
  {
   "cell_type": "code",
   "execution_count": null,
   "id": "60edbf2d",
   "metadata": {},
   "outputs": [],
   "source": [
    "data_sub = data - bkg"
   ]
  },
  {
   "cell_type": "markdown",
   "id": "50d68bb2",
   "metadata": {},
   "source": [
    "Object detection"
   ]
  },
  {
   "cell_type": "code",
   "execution_count": null,
   "id": "73cc5fdc",
   "metadata": {},
   "outputs": [],
   "source": [
    "objects = sep.extract(data_sub, 1.5, err=bkg.globalrms)"
   ]
  },
  {
   "cell_type": "markdown",
   "id": "5906b719",
   "metadata": {},
   "source": [
    "how many objects were detected"
   ]
  },
  {
   "cell_type": "code",
   "execution_count": null,
   "id": "5a8f1356",
   "metadata": {},
   "outputs": [],
   "source": [
    "len(objects)"
   ]
  },
  {
   "cell_type": "markdown",
   "id": "76c9fa8a",
   "metadata": {},
   "source": [
    "Drawing ellipses around each object on the image"
   ]
  },
  {
   "cell_type": "code",
   "execution_count": null,
   "id": "382e62c7",
   "metadata": {},
   "outputs": [],
   "source": [
    "from matplotlib.patches import Ellipse\n",
    "\n",
    "# plot background-subtracted image\n",
    "fig, ax = plt.subplots()\n",
    "m, s = np.mean(data_sub), np.std(data_sub)\n",
    "im = ax.imshow(data_sub, interpolation='nearest', cmap='gray',\n",
    "               vmin=m-s, vmax=m+s, origin='lower')\n",
    "\n",
    "# plot an ellipse for each object\n",
    "for i in range(len(objects)):\n",
    "    e = Ellipse(xy=(objects['x'][i], objects['y'][i]),\n",
    "                width=6*objects['a'][i],\n",
    "                height=6*objects['b'][i],\n",
    "                angle=objects['theta'][i] * 180. / np.pi)\n",
    "    e.set_facecolor('none')\n",
    "    e.set_edgecolor('red')\n",
    "    ax.add_artist(e)\n",
    "plt.savefig('fig4.png')"
   ]
  },
  {
   "cell_type": "markdown",
   "id": "c673b21c",
   "metadata": {},
   "source": [
    "listing available fields"
   ]
  },
  {
   "cell_type": "code",
   "execution_count": null,
   "id": "0ec6d191",
   "metadata": {},
   "outputs": [],
   "source": [
    "objects.dtype.names"
   ]
  },
  {
   "cell_type": "markdown",
   "id": "7ac0d667",
   "metadata": {},
   "source": [
    "Aperture photometry step"
   ]
  },
  {
   "cell_type": "code",
   "execution_count": null,
   "id": "9a1c22a5",
   "metadata": {},
   "outputs": [],
   "source": [
    "flux, fluxerr, flag = sep.sum_circle(data_sub, objects['x'], objects['y'],\n",
    "                                     3.0, err=bkg.globalrms, gain=1.0)"
   ]
  },
  {
   "cell_type": "markdown",
   "id": "8afb1ab5",
   "metadata": {},
   "source": [
    "showing results of first ten objects"
   ]
  },
  {
   "cell_type": "code",
   "execution_count": null,
   "id": "33d38401",
   "metadata": {},
   "outputs": [],
   "source": [
    "for i in range(10):\n",
    "    print(\"object {:d}: flux = {:f} +/- {:f}\".format(i, flux[i], fluxerr[i]))"
   ]
  }
 ],
 "metadata": {
  "kernelspec": {
   "display_name": "Python 3 (ipykernel)",
   "language": "python",
   "name": "python3"
  },
  "language_info": {
   "codemirror_mode": {
    "name": "ipython",
    "version": 3
   },
   "file_extension": ".py",
   "mimetype": "text/x-python",
   "name": "python",
   "nbconvert_exporter": "python",
   "pygments_lexer": "ipython3",
   "version": "3.10.4"
  }
 },
 "nbformat": 4,
 "nbformat_minor": 5
}
